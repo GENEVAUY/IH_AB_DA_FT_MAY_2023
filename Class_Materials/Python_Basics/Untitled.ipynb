{
 "cells": [
  {
   "cell_type": "markdown",
   "id": "ff1f93b5",
   "metadata": {},
   "source": [
    "# PANDAS"
   ]
  },
  {
   "cell_type": "markdown",
   "id": "ead71787",
   "metadata": {},
   "source": [
    "Pandel Data"
   ]
  },
  {
   "cell_type": "code",
   "execution_count": 7,
   "id": "a2680b49",
   "metadata": {},
   "outputs": [],
   "source": [
    "import pandas as pd"
   ]
  },
  {
   "cell_type": "code",
   "execution_count": 8,
   "id": "37d607f4",
   "metadata": {},
   "outputs": [],
   "source": [
    "#includes dataframe (\"df\") and series"
   ]
  },
  {
   "cell_type": "code",
   "execution_count": 10,
   "id": "bad21ae4",
   "metadata": {},
   "outputs": [],
   "source": [
    "#df shows tables"
   ]
  },
  {
   "cell_type": "code",
   "execution_count": 11,
   "id": "c176b6e3",
   "metadata": {},
   "outputs": [],
   "source": [
    "#series equivalent to dictionaries. To see the elements in a df, you can simply print Series"
   ]
  },
  {
   "cell_type": "code",
   "execution_count": 12,
   "id": "51528e63",
   "metadata": {},
   "outputs": [],
   "source": [
    "#df[[]] - returns dataframe"
   ]
  },
  {
   "cell_type": "code",
   "execution_count": 13,
   "id": "f2aa89e7",
   "metadata": {},
   "outputs": [],
   "source": [
    "#df[] - returns series"
   ]
  },
  {
   "cell_type": "code",
   "execution_count": 14,
   "id": "843af1f8",
   "metadata": {},
   "outputs": [],
   "source": [
    "#read_csv = to read csv"
   ]
  },
  {
   "cell_type": "code",
   "execution_count": 15,
   "id": "68e48d5e",
   "metadata": {},
   "outputs": [],
   "source": [
    "#rows/vertical are known as axis=0 and columns/horizontal are known as axis=o"
   ]
  },
  {
   "cell_type": "code",
   "execution_count": 16,
   "id": "506c2301",
   "metadata": {},
   "outputs": [],
   "source": [
    "#to blend data, example:"
   ]
  },
  {
   "cell_type": "markdown",
   "id": "4488cd71",
   "metadata": {},
   "source": [
    "column_names =file1.columns\n",
    "data = pd.DataFrame(columns = column.names)\n",
    "data = pd.concat([data,file1, file 2], axis=0)\n",
    "data.shape"
   ]
  },
  {
   "cell_type": "code",
   "execution_count": 23,
   "id": "f24f3ee7",
   "metadata": {},
   "outputs": [],
   "source": [
    "#to know the column names: df.columns"
   ]
  },
  {
   "cell_type": "code",
   "execution_count": 24,
   "id": "6723843a",
   "metadata": {},
   "outputs": [],
   "source": [
    "#to rename columns:"
   ]
  },
  {
   "cell_type": "code",
   "execution_count": 25,
   "id": "2baf4284",
   "metadata": {},
   "outputs": [],
   "source": [
    "# df =df.rename(columns={'x':'y', ....})"
   ]
  },
  {
   "cell_type": "code",
   "execution_count": null,
   "id": "ff7737e2",
   "metadata": {},
   "outputs": [],
   "source": [
    "#key are current columns names and values are the new names"
   ]
  }
 ],
 "metadata": {
  "kernelspec": {
   "display_name": "Python 3 (ipykernel)",
   "language": "python",
   "name": "python3"
  },
  "language_info": {
   "codemirror_mode": {
    "name": "ipython",
    "version": 3
   },
   "file_extension": ".py",
   "mimetype": "text/x-python",
   "name": "python",
   "nbconvert_exporter": "python",
   "pygments_lexer": "ipython3",
   "version": "3.10.9"
  }
 },
 "nbformat": 4,
 "nbformat_minor": 5
}
