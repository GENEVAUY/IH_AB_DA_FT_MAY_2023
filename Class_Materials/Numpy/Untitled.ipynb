{
 "cells": [
  {
   "cell_type": "markdown",
   "id": "0718e2fb",
   "metadata": {},
   "source": [
    "# Numpy exercises"
   ]
  },
  {
   "cell_type": "markdown",
   "id": "d48058ae",
   "metadata": {},
   "source": [
    "1. Import the numpy package under the name np"
   ]
  },
  {
   "cell_type": "markdown",
   "id": "c1677e07",
   "metadata": {},
   "source": [
    " hint: import … as"
   ]
  },
  {
   "cell_type": "code",
   "execution_count": 4,
   "id": "84e3023e",
   "metadata": {},
   "outputs": [],
   "source": [
    "import numpy as np"
   ]
  },
  {
   "cell_type": "markdown",
   "id": "037ea040",
   "metadata": {},
   "source": [
    "Create a null vector of size 10 "
   ]
  },
  {
   "cell_type": "markdown",
   "id": "be939136",
   "metadata": {},
   "source": [
    "hint: np.zeros"
   ]
  },
  {
   "cell_type": "code",
   "execution_count": 6,
   "id": "dab85a65",
   "metadata": {},
   "outputs": [
    {
     "name": "stdout",
     "output_type": "stream",
     "text": [
      "[0. 0. 0. 0. 0. 0. 0. 0. 0. 0.]\n"
     ]
    }
   ],
   "source": [
    "null_vector = np.zeros(10)\n",
    "\n",
    "print(null_vector)"
   ]
  },
  {
   "cell_type": "markdown",
   "id": "149e7479",
   "metadata": {},
   "source": [
    "Create a null vector of size 10 but the fifth value which is 1"
   ]
  },
  {
   "cell_type": "markdown",
   "id": "ccbb96cc",
   "metadata": {},
   "source": [
    "hint: array[4]"
   ]
  },
  {
   "cell_type": "code",
   "execution_count": 7,
   "id": "67b52e89",
   "metadata": {},
   "outputs": [
    {
     "name": "stdout",
     "output_type": "stream",
     "text": [
      "[0. 0. 0. 0. 1. 0. 0. 0. 0. 0.]\n"
     ]
    }
   ],
   "source": [
    "null_vector = np.zeros(10)\n",
    "\n",
    "null_vector[4] = 1\n",
    "\n",
    "print(null_vector)"
   ]
  },
  {
   "cell_type": "markdown",
   "id": "0c47afc6",
   "metadata": {},
   "source": [
    "Create a vector with values ranging from 10 to 49"
   ]
  },
  {
   "cell_type": "markdown",
   "id": "679c88a4",
   "metadata": {},
   "source": [
    "hint: arange"
   ]
  },
  {
   "cell_type": "code",
   "execution_count": 9,
   "id": "ff281695",
   "metadata": {},
   "outputs": [
    {
     "name": "stdout",
     "output_type": "stream",
     "text": [
      "[10 11 12 13 14 15 16 17 18 19 20 21 22 23 24 25 26 27 28 29 30 31 32 33\n",
      " 34 35 36 37 38 39 40 41 42 43 44 45 46 47 48 49]\n"
     ]
    }
   ],
   "source": [
    "vector = np.arange(10, 50)\n",
    "\n",
    "print(vector)"
   ]
  },
  {
   "cell_type": "markdown",
   "id": "710f1350",
   "metadata": {},
   "source": [
    "Create a 3x3 matrix with values ranging from 0 to 8"
   ]
  },
  {
   "cell_type": "markdown",
   "id": "3a001644",
   "metadata": {},
   "source": [
    "hint: reshape"
   ]
  },
  {
   "cell_type": "code",
   "execution_count": null,
   "id": "880566f9",
   "metadata": {},
   "outputs": [],
   "source": [
    "matrix = np.arange(9).reshape(3, 3)\n",
    "\n",
    "print(matrix)\n"
   ]
  },
  {
   "cell_type": "markdown",
   "id": "11218191",
   "metadata": {},
   "source": [
    "Find indices of non-zero elements from [1,2,0,0,4,0]"
   ]
  },
  {
   "cell_type": "markdown",
   "id": "79beef5e",
   "metadata": {},
   "source": [
    "hint: np.nonzero"
   ]
  },
  {
   "cell_type": "code",
   "execution_count": 14,
   "id": "71b29288",
   "metadata": {},
   "outputs": [
    {
     "name": "stdout",
     "output_type": "stream",
     "text": [
      "(array([0, 1, 4]),)\n"
     ]
    }
   ],
   "source": [
    "elements = [1, 2, 0, 0, 4, 0]\n",
    "\n",
    "arr = np.array(elements)\n",
    "\n",
    "non_zero = np.nonzero(arr)\n",
    "\n",
    "print(non_zero)\n"
   ]
  },
  {
   "cell_type": "markdown",
   "id": "0e4118b7",
   "metadata": {},
   "source": [
    "Create a 3x3 identity matrix"
   ]
  },
  {
   "cell_type": "markdown",
   "id": "628ef6ee",
   "metadata": {},
   "source": [
    "hint: np.eye"
   ]
  },
  {
   "cell_type": "code",
   "execution_count": 15,
   "id": "d60d0d90",
   "metadata": {},
   "outputs": [
    {
     "name": "stdout",
     "output_type": "stream",
     "text": [
      "[[1. 0. 0.]\n",
      " [0. 1. 0.]\n",
      " [0. 0. 1.]]\n"
     ]
    }
   ],
   "source": [
    "identity_matrix = np.eye(3)\n",
    "\n",
    "print(identity_matrix)\n"
   ]
  },
  {
   "cell_type": "markdown",
   "id": "1213c6bb",
   "metadata": {},
   "source": [
    "Create a 3x3x3 array with random values"
   ]
  },
  {
   "cell_type": "markdown",
   "id": "d8355eb3",
   "metadata": {},
   "source": [
    "hint: np.random.random"
   ]
  },
  {
   "cell_type": "code",
   "execution_count": 16,
   "id": "0ef47245",
   "metadata": {},
   "outputs": [
    {
     "name": "stdout",
     "output_type": "stream",
     "text": [
      "[[[0.39622581 0.7239349  0.12038639]\n",
      "  [0.7645336  0.31822388 0.57296173]\n",
      "  [0.03343139 0.30023186 0.25377424]]\n",
      "\n",
      " [[0.33533243 0.17898657 0.62123666]\n",
      "  [0.24634741 0.77823862 0.12823722]\n",
      "  [0.69383049 0.60340122 0.12094132]]\n",
      "\n",
      " [[0.49276212 0.32383603 0.47848211]\n",
      "  [0.49228181 0.52975423 0.80246763]\n",
      "  [0.88630258 0.64173112 0.95066776]]]\n"
     ]
    }
   ],
   "source": [
    "array = np.random.random((3, 3, 3))\n",
    "\n",
    "print(array)"
   ]
  },
  {
   "cell_type": "markdown",
   "id": "b11a83fb",
   "metadata": {},
   "source": [
    "Create a 10x10 array with random values and find the minimum and maximum values"
   ]
  },
  {
   "cell_type": "markdown",
   "id": "03ea2640",
   "metadata": {},
   "source": [
    "hint: min, max"
   ]
  },
  {
   "cell_type": "code",
   "execution_count": 19,
   "id": "fe866fb7",
   "metadata": {},
   "outputs": [
    {
     "name": "stdout",
     "output_type": "stream",
     "text": [
      "Array:\n",
      "[[0.77189895 0.67160496 0.13101655 0.14775123 0.14686451 0.77129937\n",
      "  0.04877411 0.30501978 0.82770181 0.98141738]\n",
      " [0.54958529 0.97930743 0.56832707 0.52794994 0.63584694 0.60536641\n",
      "  0.27238311 0.89569689 0.25558872 0.49348808]\n",
      " [0.83947172 0.01701666 0.5872592  0.07349218 0.33794936 0.47377996\n",
      "  0.09172887 0.09295583 0.33642796 0.17583229]\n",
      " [0.4759588  0.42332789 0.86841288 0.90482823 0.77734432 0.42320619\n",
      "  0.6122642  0.88579332 0.71283659 0.16921882]\n",
      " [0.0635744  0.2967281  0.55032646 0.73337778 0.24836158 0.20860698\n",
      "  0.94105743 0.28506174 0.24395306 0.41975497]\n",
      " [0.86662699 0.93986116 0.43867108 0.86760805 0.38577217 0.99795343\n",
      "  0.42691129 0.77977422 0.27621774 0.78720763]\n",
      " [0.06853312 0.44022204 0.95313082 0.50532898 0.51235413 0.9652755\n",
      "  0.51736013 0.77794231 0.02928857 0.58877428]\n",
      " [0.30203043 0.70661437 0.30841059 0.12992956 0.26851373 0.14683843\n",
      "  0.19337322 0.30638011 0.77965095 0.17159639]\n",
      " [0.25271489 0.70936628 0.96318549 0.22954869 0.60783003 0.74406306\n",
      "  0.49665441 0.60265973 0.33170654 0.08066471]\n",
      " [0.92767381 0.57835928 0.82501746 0.18387101 0.19698517 0.29496426\n",
      "  0.26769526 0.75685355 0.07714139 0.94911734]]\n"
     ]
    }
   ],
   "source": [
    "array = np.random.random((10, 10))\n",
    "print(\"Array:\")\n",
    "print(array)"
   ]
  },
  {
   "cell_type": "code",
   "execution_count": 20,
   "id": "44f84f10",
   "metadata": {},
   "outputs": [
    {
     "name": "stdout",
     "output_type": "stream",
     "text": [
      "Minimum value: 0.017016662949643213\n",
      "Maximum value: 0.9979534323333562\n"
     ]
    }
   ],
   "source": [
    "min_value = np.min(array)\n",
    "max_value = np.max(array)\n",
    "\n",
    "print(\"Minimum value:\", min_value)\n",
    "print(\"Maximum value:\", max_value)"
   ]
  },
  {
   "cell_type": "markdown",
   "id": "4ca71b1d",
   "metadata": {},
   "source": [
    " Create a random vector of size 30 and find the mean value"
   ]
  },
  {
   "cell_type": "markdown",
   "id": "584c414b",
   "metadata": {},
   "source": [
    "hint: mean"
   ]
  },
  {
   "cell_type": "code",
   "execution_count": 21,
   "id": "7452eef9",
   "metadata": {},
   "outputs": [
    {
     "name": "stdout",
     "output_type": "stream",
     "text": [
      "Random Vector:\n",
      "[2.19243512e-01 6.29126832e-02 4.06730564e-01 5.70564346e-02\n",
      " 8.45490783e-01 4.38281823e-01 3.91167245e-02 3.59628904e-01\n",
      " 2.56357363e-01 5.86502740e-01 1.26505434e-01 2.82912772e-01\n",
      " 1.77783826e-02 2.98765087e-01 4.69678980e-02 6.26778092e-01\n",
      " 6.53132158e-04 7.66201279e-02 2.60977189e-01 4.32080582e-01\n",
      " 7.81647585e-01 5.04828590e-02 2.97373898e-01 3.65581801e-01\n",
      " 2.08159538e-02 6.35412919e-01 8.97312598e-01 9.43862688e-01\n",
      " 8.80899830e-01 5.67573580e-01]\n"
     ]
    }
   ],
   "source": [
    "vector = np.random.random(30)\n",
    "\n",
    "print(\"Random Vector:\")\n",
    "\n",
    "print(vector)"
   ]
  },
  {
   "cell_type": "code",
   "execution_count": 22,
   "id": "7cfba6c6",
   "metadata": {},
   "outputs": [
    {
     "name": "stdout",
     "output_type": "stream",
     "text": [
      "Mean value: 0.3627441312989313\n"
     ]
    }
   ],
   "source": [
    "mean_value = np.mean(vector)\n",
    "\n",
    "print(\"Mean value:\", mean_value)"
   ]
  },
  {
   "cell_type": "markdown",
   "id": "72853599",
   "metadata": {},
   "source": [
    "Create a 5x5 matrix with values 1,2,3,4 just below the diagonal "
   ]
  },
  {
   "cell_type": "markdown",
   "id": "0e41351b",
   "metadata": {},
   "source": [
    "hint: np.diag"
   ]
  },
  {
   "cell_type": "code",
   "execution_count": 27,
   "id": "5e0e585e",
   "metadata": {},
   "outputs": [
    {
     "name": "stdout",
     "output_type": "stream",
     "text": [
      "[[0 0 0 0 0]\n",
      " [1 0 0 0 0]\n",
      " [0 2 0 0 0]\n",
      " [0 0 3 0 0]\n",
      " [0 0 0 4 0]]\n"
     ]
    }
   ],
   "source": [
    "values = [1, 2, 3, 4]\n",
    "matrix = np.diag(values, k=-1)\n",
    "\n",
    "print(matrix)"
   ]
  },
  {
   "cell_type": "markdown",
   "id": "c4a9eae0",
   "metadata": {},
   "source": [
    "Normalize a 5x5 random matrix"
   ]
  },
  {
   "cell_type": "markdown",
   "id": "02a1d95d",
   "metadata": {},
   "source": [
    "hint: (x -mean)/std"
   ]
  },
  {
   "cell_type": "code",
   "execution_count": 29,
   "id": "bfbc5a78",
   "metadata": {},
   "outputs": [
    {
     "name": "stdout",
     "output_type": "stream",
     "text": [
      "[[-1.23424    -0.55143995  0.40894115  0.5230566   0.416573  ]\n",
      " [ 0.60989954  0.18591783  0.9287479  -0.58572083 -0.99968472]\n",
      " [-0.85858207  1.30138409  1.08357657 -1.53046961 -1.006811  ]\n",
      " [-1.18897885  0.09709136  1.10407387  1.38983056  1.36474036]\n",
      " [ 0.7494283  -1.59774939 -1.05837974  1.27658718 -0.82779214]]\n"
     ]
    }
   ],
   "source": [
    "matrix = np.random.random((5, 5))\n",
    "\n",
    "mean = np.mean(matrix)\n",
    "std = np.std(matrix)\n",
    "\n",
    "normalized_matrix = (matrix - mean) / std\n",
    "\n",
    "print(normalized_matrix)\n"
   ]
  },
  {
   "cell_type": "markdown",
   "id": "93897ba2",
   "metadata": {},
   "source": [
    "How to find common values between two arrays?"
   ]
  },
  {
   "cell_type": "markdown",
   "id": "d91cbda4",
   "metadata": {},
   "source": [
    "hint: np.intersect1d"
   ]
  },
  {
   "cell_type": "code",
   "execution_count": 30,
   "id": "19a891f5",
   "metadata": {},
   "outputs": [
    {
     "name": "stdout",
     "output_type": "stream",
     "text": [
      "[2.04 2.11]\n"
     ]
    }
   ],
   "source": [
    "first_sample = np.array([02.11, 08.30, 02.04])\n",
    "second_sample = np.array([02.04, 02.11, 02.28])\n",
    "\n",
    "common_values = np.intersect1d(first_sample, second_sample)\n",
    "\n",
    "print(common_values)\n"
   ]
  },
  {
   "cell_type": "markdown",
   "id": "cb652442",
   "metadata": {},
   "source": [
    "Create a random vector of size 10 and sort it"
   ]
  },
  {
   "cell_type": "markdown",
   "id": "55eda8a1",
   "metadata": {},
   "source": [
    "hint: sort"
   ]
  },
  {
   "cell_type": "code",
   "execution_count": 31,
   "id": "27b2bb1d",
   "metadata": {},
   "outputs": [
    {
     "name": "stdout",
     "output_type": "stream",
     "text": [
      "[0.0280798  0.0531975  0.07145982 0.17677449 0.19325176 0.30418809\n",
      " 0.49014288 0.53816107 0.58936854 0.770999  ]\n"
     ]
    }
   ],
   "source": [
    "random_vector = np.random.random(10)\n",
    "\n",
    "\n",
    "sorted_it = np.sort(random_vector)\n",
    "\n",
    "\n",
    "print(sorted_it)\n"
   ]
  },
  {
   "cell_type": "markdown",
   "id": "d28f9672",
   "metadata": {},
   "source": [
    "Create random vector of size 10 and replace the maximum value by 0"
   ]
  },
  {
   "cell_type": "markdown",
   "id": "e3e54262",
   "metadata": {},
   "source": [
    "hint: argmax"
   ]
  },
  {
   "cell_type": "code",
   "execution_count": 32,
   "id": "aa313e9b",
   "metadata": {},
   "outputs": [
    {
     "name": "stdout",
     "output_type": "stream",
     "text": [
      "[0.59357792 0.3793931  0.09927861 0.92691963 0.45649919 0.77190408\n",
      " 0.39806052 0.45489959 0.41247763 0.25355223]\n"
     ]
    }
   ],
   "source": [
    "vector = np.random.rand(10)\n",
    "\n",
    "print(vector)"
   ]
  },
  {
   "cell_type": "code",
   "execution_count": 33,
   "id": "f656dc7d",
   "metadata": {},
   "outputs": [
    {
     "name": "stdout",
     "output_type": "stream",
     "text": [
      "[0.59357792 0.3793931  0.09927861 0.         0.45649919 0.77190408\n",
      " 0.39806052 0.45489959 0.41247763 0.25355223]\n"
     ]
    }
   ],
   "source": [
    "max_value = np.argmax(vector)\n",
    "\n",
    "vector[max_value] = 0\n",
    "\n",
    "print (vector)"
   ]
  },
  {
   "cell_type": "markdown",
   "id": "d39b81ad",
   "metadata": {},
   "source": [
    "Subtract the mean of each row of a matrix "
   ]
  },
  {
   "cell_type": "markdown",
   "id": "5a671ced",
   "metadata": {},
   "source": [
    "hint: mean(axis=,keepdims=)"
   ]
  },
  {
   "cell_type": "code",
   "execution_count": 34,
   "id": "af4dbdee",
   "metadata": {},
   "outputs": [
    {
     "name": "stdout",
     "output_type": "stream",
     "text": [
      "[[-1.  0.  1.]\n",
      " [-1.  0.  1.]\n",
      " [-1.  0.  1.]]\n"
     ]
    }
   ],
   "source": [
    "matrix = np.array([[1, 2, 3],\n",
    "                   [4, 5, 6],\n",
    "                   [7, 8, 9]])\n",
    "\n",
    "each_mean = np.mean(matrix, axis=1, keepdims=True)\n",
    "\n",
    "deducted_matrix = matrix - each_mean\n",
    "\n",
    "print(deducted_matrix)\n"
   ]
  },
  {
   "cell_type": "markdown",
   "id": "c2ae688a",
   "metadata": {},
   "source": [
    "How to get the n largest values of an array"
   ]
  },
  {
   "cell_type": "markdown",
   "id": "4f2b173c",
   "metadata": {},
   "source": [
    "Z = np.arange(10000) np.random.shuffle(Z) n = 5 hint: np.argsort | np.argpartition"
   ]
  },
  {
   "cell_type": "code",
   "execution_count": 35,
   "id": "f342c85c",
   "metadata": {},
   "outputs": [
    {
     "name": "stdout",
     "output_type": "stream",
     "text": [
      "[9995 9996 9997 9998 9999]\n"
     ]
    }
   ],
   "source": [
    "Z = np.arange(10000)\n",
    "np.random.shuffle(Z)\n",
    "n = 5\n",
    "\n",
    "largest_indices = np.argsort(Z)[-n:]\n",
    "\n",
    "largest_values = Z[largest_indices]\n",
    "\n",
    "print(largest_values)\n"
   ]
  },
  {
   "cell_type": "markdown",
   "id": "cd8317b3",
   "metadata": {},
   "source": [
    "Create a random 5*3 matrix and replace items that are larger than 4 by their squares ( Example: 6 --> 36)"
   ]
  },
  {
   "cell_type": "markdown",
   "id": "b7a29ae7",
   "metadata": {},
   "source": [
    "hint: np.where"
   ]
  },
  {
   "cell_type": "code",
   "execution_count": null,
   "id": "87efb333",
   "metadata": {},
   "outputs": [],
   "source": [
    "import numpy as np\n",
    "\n",
    "matrix = np.random.randint(0, 10, size=(5, 3))\n",
    "\n",
    "print(\"Original Matrix:\")\n",
    "print(matrix)\n",
    "\n",
    "matrix = np.where(matrix > 4, matrix ** 2, matrix)\n",
    "\n",
    "print(\"\\nModified Matrix:\")\n",
    "print(matrix)\n"
   ]
  },
  {
   "cell_type": "code",
   "execution_count": null,
   "id": "bc7b2243",
   "metadata": {},
   "outputs": [],
   "source": [
    "import numpy as np\n",
    "\n",
    "matrix = np.random.randint(0, 10, size=(5, 3))\n",
    "\n",
    "print(\"Original Matrix:\")\n",
    "print(matrix)\n",
    "\n",
    "matrix[matrix > 4] = matrix[matrix > 4] ** 2\n",
    "\n",
    "print(\"\\nModified Matrix:\")\n",
    "print(matrix)\n"
   ]
  }
 ],
 "metadata": {
  "kernelspec": {
   "display_name": "Python 3 (ipykernel)",
   "language": "python",
   "name": "python3"
  },
  "language_info": {
   "codemirror_mode": {
    "name": "ipython",
    "version": 3
   },
   "file_extension": ".py",
   "mimetype": "text/x-python",
   "name": "python",
   "nbconvert_exporter": "python",
   "pygments_lexer": "ipython3",
   "version": "3.10.9"
  }
 },
 "nbformat": 4,
 "nbformat_minor": 5
}
