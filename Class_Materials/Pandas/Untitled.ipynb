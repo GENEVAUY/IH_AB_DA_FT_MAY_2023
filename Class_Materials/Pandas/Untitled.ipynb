{
 "cells": [
  {
   "cell_type": "code",
   "execution_count": 2,
   "id": "1dd8ecdc",
   "metadata": {},
   "outputs": [
    {
     "ename": "SyntaxError",
     "evalue": "invalid syntax (3124233587.py, line 2)",
     "output_type": "error",
     "traceback": [
      "\u001b[0;36m  Cell \u001b[0;32mIn[2], line 2\u001b[0;36m\u001b[0m\n\u001b[0;31m    Create a function that returns the sum of the two lowest positive numbers given an array of minimum 2 integers. No floats or empty arrays will be passed.\u001b[0m\n\u001b[0m           ^\u001b[0m\n\u001b[0;31mSyntaxError\u001b[0m\u001b[0;31m:\u001b[0m invalid syntax\n"
     ]
    }
   ],
   "source": [
    "Task\n",
    "Create a function that returns the sum of the two lowest positive numbers given an array of minimum 2 integers. No floats or empty arrays will be passed.\n",
    "\n",
    "Bonus: Try to not modify the original array.\n",
    "Examples\n",
    "\n",
    "Input\tOutput\n",
    "[19, 5, 42, 2, 77]\t7\n",
    "[5, 8, 8, 8, 8]\t13\n",
    "Documentation\n",
    "sum_two_smallest_numbers(numbers)\n",
    "\n",
    "Parameters:\n",
    "\n",
    "numbers: Array<int>\n",
    "\n",
    "An array of positive integers.\n",
    "\n",
    "Guaranteed Constraints:\n",
    "\n",
    "The input will never be null or undefined.\n",
    "All numbers are valid Int32, no need to validate them.\n",
    "All numbers will be positive (non-zero) values.\n",
    "There will always be at least two numbers in the input string.\n",
    "Returns: int\n",
    "\n",
    "The sum of the two lowest numbers in the string.\n",
    "\n"
   ]
  },
  {
   "cell_type": "code",
   "execution_count": null,
   "id": "022363d1",
   "metadata": {},
   "outputs": [],
   "source": []
  },
  {
   "cell_type": "code",
   "execution_count": 7,
   "id": "97c5260a",
   "metadata": {},
   "outputs": [
    {
     "data": {
      "text/plain": [
       "[5, 8, 8, 8, 8]"
      ]
     },
     "execution_count": 7,
     "metadata": {},
     "output_type": "execute_result"
    }
   ],
   "source": [
    "[19, 5, 42, 2, 77]\n",
    "[5, 8, 8, 8, 8]"
   ]
  },
  {
   "cell_type": "code",
   "execution_count": 3,
   "id": "a3e9fad1",
   "metadata": {},
   "outputs": [],
   "source": [
    "def sum_two_smallest_numbers(numbers):\n",
    "    sorted_numbers = sorted(numbers)\n",
    "    return sorted_numbers[0] + sorted_numbers[1]"
   ]
  },
  {
   "cell_type": "code",
   "execution_count": 8,
   "id": "d45d0061",
   "metadata": {},
   "outputs": [],
   "source": [
    "def sum_two_smallest_numbers(numbers):\n",
    "    # Find the two lowest numbers in the array\n",
    "    lowest1 = min(numbers)\n",
    "    numbers.remove(lowest1)\n",
    "    lowest2 = min(numbers)\n",
    "    \n",
    "    # Return the sum of the two lowest numbers\n",
    "    return lowest1 + lowest2\n"
   ]
  },
  {
   "cell_type": "code",
   "execution_count": null,
   "id": "fca8d687",
   "metadata": {},
   "outputs": [],
   "source": []
  },
  {
   "cell_type": "code",
   "execution_count": null,
   "id": "f50b1ff0",
   "metadata": {},
   "outputs": [],
   "source": [
    "Task\n",
    "You are given an array (which will have a length of at least 3, but could be very large) containing integers. The array is either entirely comprised of odd integers or entirely comprised of even integers except for a single integer N. Write a method that takes the array as an argument and returns this \"outlier\" N.\n",
    "\n",
    "Specification\n",
    "\n",
    "find_outlier(integers)\n",
    "\n",
    "Parameters\n",
    "integers: Array (of Integers)\n",
    "Return Value\n",
    "Integer - The only odd or even number\n",
    "Examples\n",
    "\n",
    "integers\tReturn Value\n",
    "Only odd number [2,4,0,4,11,2602,36]\t11\n",
    "Only even number [160,3,1719,19,13,-21]\t160\n"
   ]
  },
  {
   "cell_type": "code",
   "execution_count": 9,
   "id": "610857aa",
   "metadata": {},
   "outputs": [],
   "source": [
    "def find_outlier(integers):\n",
    "    even_count = 0\n",
    "    odd_count = 0\n",
    "    last_even = None\n",
    "    last_odd = None\n",
    "\n",
    "    for num in integers:\n",
    "        if num % 2 == 0:\n",
    "            even_count += 1\n",
    "            last_even = num\n",
    "        else:\n",
    "            odd_count += 1\n",
    "            last_odd = num\n",
    "\n",
    "       \n",
    "        if even_count == 2 and odd_count == 1:\n",
    "            return last_odd\n",
    "        elif even_count == 1 and odd_count == 2:\n",
    "            return last_even\n"
   ]
  },
  {
   "cell_type": "code",
   "execution_count": null,
   "id": "f6ba305f",
   "metadata": {},
   "outputs": [],
   "source": [
    "def find_outlier(integers):\n",
    "    majority = sum(1 for num in integers if num % 2 == 0) > 1\n",
    "\n",
    "    for num in integers:\n",
    "        if num % 2 == majority:\n",
    "            return num\n"
   ]
  },
  {
   "cell_type": "code",
   "execution_count": null,
   "id": "d9e2400c",
   "metadata": {},
   "outputs": [],
   "source": []
  },
  {
   "cell_type": "code",
   "execution_count": null,
   "id": "07cb01bf",
   "metadata": {},
   "outputs": [],
   "source": [
    "Task\n",
    "Complete the function in your editor.\n",
    "\n",
    "Your function must merge strings a and b, and then return a single merged string. A merge operation on two strings is described as follows:\n",
    "\n",
    "Append alternating characters from a and b, respectively, to some new string, mergedString.\n",
    "Once all of the characters in one of the strings have been merged, append the remaining characters in the other string to mergedString.\n",
    "Specification\n",
    "merge_strings(a, b)\n",
    "\n",
    "Parameters\n",
    "a: String\n",
    "b: String\n",
    "Return Value\n",
    "String - The mergedString\n",
    "Constraints\n",
    "1 ≤ |a length|, |b length| ≤ 25000\n",
    "Examples\n",
    "\n",
    "a\tb\tReturn Value\n",
    "\"abc\"\t\"def\"\t\"adbecf\"\n",
    "\"ab\"\t\"def\"\t\"adbef\"\n",
    "\"abc\"\t\"de\"\t\"adbec\"\n"
   ]
  },
  {
   "cell_type": "code",
   "execution_count": 21,
   "id": "a7829d56",
   "metadata": {},
   "outputs": [],
   "source": [
    "a = ('abc','ab','abc')\n",
    "b = ('def','def','de')"
   ]
  },
  {
   "cell_type": "code",
   "execution_count": 18,
   "id": "dc1ed6e3",
   "metadata": {},
   "outputs": [
    {
     "name": "stdout",
     "output_type": "stream",
     "text": [
      "('abc', 'ab', 'abc', 'def', 'def', 'de')\n"
     ]
    }
   ],
   "source": [
    "merged_strings = (a + b)\n",
    "print(merged_strings) \n"
   ]
  },
  {
   "cell_type": "code",
   "execution_count": 22,
   "id": "b0ee8365",
   "metadata": {},
   "outputs": [],
   "source": [
    "\n"
   ]
  },
  {
   "cell_type": "code",
   "execution_count": null,
   "id": "ee404e34",
   "metadata": {},
   "outputs": [],
   "source": [
    "Task\n",
    "In this little assignment you are given a string of space separated numbers, and have to return the highest and lowest number.\n",
    "\n",
    "Examples\n",
    "\n",
    "Input\tOutput\n",
    "\"1 2 3 4 5\"\t\"5 1\"\n",
    "\"1 2 -3 4 5\"\t\"5 -3\"\n",
    "\"1 9 3 4 -5\"\t\"9 -5\"\n",
    "Documentation\n",
    "highAndLow(numbers)\n",
    "\n",
    "Parameters:\n",
    "\n",
    "numbers: String\n",
    "\n",
    "A string of numbers separated by spaces.\n",
    "\n",
    "Guaranteed Constraints:\n",
    "\n",
    "All numbers are valid Int32, no need to validate them.\n",
    "It will never be null or undefined.\n",
    "There will always be at least one number in the input string.\n",
    "Returns: String\n",
    "\n",
    "Two numbers separated by a single space, and highest number must be first.\n",
    "\n",
    "\n"
   ]
  },
  {
   "cell_type": "code",
   "execution_count": null,
   "id": "39805cb2",
   "metadata": {},
   "outputs": [],
   "source": [
    "def high_and_low (numbers):\n",
    "    number_list = numbers.split()\n",
    "    \n",
    "    integer_list = [int(num) for num in number_list]\n",
    "    \n",
    "    maximum = max(integer_list)\n",
    "    minimum = min(integer_list)\n",
    "    \n",
    "    return str(maximum) + \" \" + str(minimum)\n"
   ]
  },
  {
   "cell_type": "code",
   "execution_count": null,
   "id": "8739d38e",
   "metadata": {},
   "outputs": [],
   "source": [
    "Task\n",
    "Write a function that takes a string input,and returns the first character that is not repeated anywhere in the string. Characters in strings consist of printable characters.\n",
    "\n",
    "As an added challenge, upper- and lowercase letters are considered the same character, but the function should return the correct case for the initial letter. For example, the input 'sTreSS' should return 'T'.\n",
    "\n",
    "If a string contains all repeating characters, it should return the empty string (\"\").\n",
    "\n",
    "Documentation\n",
    "\n",
    "first_non_repeating_letter(s)\n",
    "\n",
    "Parameters\n",
    "s: String - a string to be parsed\n",
    "Return Value\n",
    "String - the first character that is not repeated anywhere in the string\n",
    "Examples\n",
    "\n",
    "s\tReturn Value\n",
    "Example #1\t\"stress\"\t\"t\"\n",
    "Example #2\t\"STreSS\"\t\"T\"\n",
    "Example #1 Explanation\n",
    "\n",
    "In the input \"stress\", the function should return \"t\", since the letter t only occurs once in the string, and occurs first in the string.\n",
    "\n",
    "Tip\n",
    "\n",
    "You could search for a method that counts the number of ocurrences of a character in a string.\n",
    "\n"
   ]
  },
  {
   "cell_type": "code",
   "execution_count": null,
   "id": "ffa8573f",
   "metadata": {},
   "outputs": [],
   "source": [
    "def first_non_repeating_letter(s):\n",
    "    s_lower = s.lower()\n",
    "\n",
    "    for i, character in enumerate(s_lower):\n",
    "        if s_lower.count(character) == 1:\n",
    "            return s[i]\n",
    "    \n",
    "    return \"\"\n"
   ]
  },
  {
   "cell_type": "code",
   "execution_count": null,
   "id": "41989e12",
   "metadata": {},
   "outputs": [],
   "source": [
    "Task\n",
    "You are provided a string containing a list of positive integers separated by a space (\" \"). Take each value and calculate the sum of its digits, which we call its \"weight\". Then return the list in ascending order by weight, as a string joined by spaces.\n",
    "\n",
    "For example 99 will have \"weight\" 18, 100 will have \"weight\" 1. In the output 100 will come before 99.\n",
    "\n",
    "Specification\n",
    "\n",
    "order_weight(strng)\n",
    "\n",
    "Parameters\n",
    "strng: String - String of space-delimited numbers which are to be put in order based on the sum (\"weight\") of their digits\n",
    "Return Value\n",
    "String - A string of digits ordered by their \"weight\"\n",
    "Example:\n",
    "\n",
    "\"56 65 74 100 99 68 86 180 90\" ordered by numbers weights becomes: \"100 180 90 56 65 74 68 86 99\"\n",
    "\n",
    "When two numbers have the same \"weight\", let's consider them to be strings and not numbers:\n",
    "\n",
    "100 is before 180 because its \"weight\" (1) is less than that of 180 (9). 180 is before 90 since, having the same \"weight\" (9), \"180\" is ordered as less than \"90\" when compared lexicographically as strings.\n",
    "\n",
    "All numbers in the list are positive integers and the list can be empty.\n",
    "\n",
    "Tip:\n",
    "\n",
    "One possible solution could include the method sorted. Make sure to check the parameter key."
   ]
  },
  {
   "cell_type": "markdown",
   "id": "863bcfd1",
   "metadata": {},
   "source": [
    "Task\n",
    "You are provided a string containing a list of positive integers separated by a space (\" \"). Take each value and calculate the sum of its digits, which we call its \"weight\". Then return the list in ascending order by weight, as a string joined by spaces.\n",
    "\n",
    "For example 99 will have \"weight\" 18, 100 will have \"weight\" 1. In the output 100 will come before 99.\n",
    "\n",
    "Specification:\n",
    "\n",
    "order_weight(strng)\n",
    "\n",
    "Parameters:\n",
    "strng: String - String of space-delimited numbers which are to be put in order based on the sum (\"weight\") of their digits\n",
    "Return Value\n",
    "String - A string of digits ordered by their \"weight\"\n",
    "Example:\n",
    "\n",
    "\"56 65 74 100 99 68 86 180 90\" ordered by numbers weights becomes: \"100 180 90 56 65 74 68 86 99\"\n",
    "\n",
    "When two numbers have the same \"weight\", let's consider them to be strings and not numbers:\n",
    "\n",
    "100 is before 180 because its \"weight\" (1) is less than that of 180 (9). 180 is before 90 since, having the same \"weight\" (9), \"180\" is ordered as less than \"90\" when compared lexicographically as strings.\n",
    "\n",
    "All numbers in the list are positive integers and the list can be empty.\n",
    "\n",
    "Tip:\n",
    "\n",
    "One possible solution could include the method sorted. Make sure to check the parameter key."
   ]
  },
  {
   "cell_type": "code",
   "execution_count": null,
   "id": "136ff9e2",
   "metadata": {},
   "outputs": [],
   "source": [
    "def order_weight(strng):\n",
    "    numbers = strng.split()\n",
    "\n",
    "\n",
    "    weights = []\n",
    "    for number in numbers:\n",
    "        weight = sum(int(digit) for digit in number)\n",
    "        weights.append(weight)\n",
    "\n",
    "    sorted_numbers = sorted(numbers, key=lambda x: (sum(int(digit) for digit in x), x))\n",
    "\n",
    "    return ' '.join(sorted_numbers)\n"
   ]
  }
 ],
 "metadata": {
  "kernelspec": {
   "display_name": "Python 3 (ipykernel)",
   "language": "python",
   "name": "python3"
  },
  "language_info": {
   "codemirror_mode": {
    "name": "ipython",
    "version": 3
   },
   "file_extension": ".py",
   "mimetype": "text/x-python",
   "name": "python",
   "nbconvert_exporter": "python",
   "pygments_lexer": "ipython3",
   "version": "3.10.9"
  }
 },
 "nbformat": 4,
 "nbformat_minor": 5
}
