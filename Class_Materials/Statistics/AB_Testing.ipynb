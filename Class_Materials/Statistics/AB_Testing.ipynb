{
 "cells": [
  {
   "cell_type": "markdown",
   "id": "02c90cec",
   "metadata": {},
   "source": [
    "   #                   A-B TESTING"
   ]
  },
  {
   "cell_type": "code",
   "execution_count": 1,
   "id": "498d5dfb",
   "metadata": {},
   "outputs": [],
   "source": [
    "\n",
    "import numpy as np\n",
    "import pandas as pd\n",
    "import scipy.stats as stats\n",
    "import statsmodels.stats.api as sms\n",
    "import matplotlib as mpl\n",
    "import matplotlib.pyplot as plt\n",
    "import seaborn as sns\n",
    "from math import ceil\n",
    "%matplotlib inline"
   ]
  },
  {
   "cell_type": "markdown",
   "id": "8b21ff20",
   "metadata": {},
   "source": [
    "##  Imagine you and a UX/UI designer are working together on a new project after the bootcamp, involving a website on which customers can buy clothes. The UX designer created a new version of the website, and he hopes it will lead to a higher conversion rate. The  current conversion rate is 12% on average throughout the year, and you would be happy with an increase of 2%, meaning that the new design will be considered a success if it raises the conversion rate to 14%."
   ]
  },
  {
   "cell_type": "markdown",
   "id": "490d1670",
   "metadata": {},
   "source": [
    "### Defining our hypothesis"
   ]
  },
  {
   "cell_type": "markdown",
   "id": "1cb2b848",
   "metadata": {},
   "source": [
    "Ho: CR0 = CR1 <br /> \n",
    "Ha: CR0 != CR1\n",
    "\n",
    "(Two-tailed test)"
   ]
  },
  {
   "cell_type": "markdown",
   "id": "a575908f",
   "metadata": {},
   "source": [
    "### Determining our effect size and finding our required sample size"
   ]
  },
  {
   "cell_type": "code",
   "execution_count": 2,
   "id": "6c7c2d65",
   "metadata": {},
   "outputs": [
    {
     "name": "stdout",
     "output_type": "stream",
     "text": [
      "4433\n"
     ]
    }
   ],
   "source": [
    "\n",
    "effect_size = sms.proportion_effectsize(0.12, 0.14)    # Calculating effect size based on our expected rates\n",
    "\n",
    "required_n = sms.NormalIndPower().solve_power(\n",
    "    effect_size, \n",
    "    power=0.8, \n",
    "    alpha=0.05, \n",
    "    ratio=1\n",
    "    )                                                  # Calculating sample size needed\n",
    "\n",
    "required_n = ceil(required_n)                          # Rounding up to next whole number                          \n",
    "\n",
    "print(required_n)"
   ]
  },
  {
   "cell_type": "markdown",
   "id": "3c57a36a",
   "metadata": {},
   "source": [
    "#### Loading the data"
   ]
  },
  {
   "cell_type": "code",
   "execution_count": 3,
   "id": "ecf0691d",
   "metadata": {},
   "outputs": [],
   "source": [
    "df= pd.read_csv('ab_data.csv')\n"
   ]
  },
  {
   "cell_type": "markdown",
   "id": "a0eee4d6",
   "metadata": {},
   "source": [
    "#### Looking at our dataframe"
   ]
  },
  {
   "cell_type": "code",
   "execution_count": 4,
   "id": "36c48932",
   "metadata": {},
   "outputs": [
    {
     "data": {
      "text/html": [
       "<div>\n",
       "<style scoped>\n",
       "    .dataframe tbody tr th:only-of-type {\n",
       "        vertical-align: middle;\n",
       "    }\n",
       "\n",
       "    .dataframe tbody tr th {\n",
       "        vertical-align: top;\n",
       "    }\n",
       "\n",
       "    .dataframe thead th {\n",
       "        text-align: right;\n",
       "    }\n",
       "</style>\n",
       "<table border=\"1\" class=\"dataframe\">\n",
       "  <thead>\n",
       "    <tr style=\"text-align: right;\">\n",
       "      <th></th>\n",
       "      <th>user_id</th>\n",
       "      <th>timestamp</th>\n",
       "      <th>group</th>\n",
       "      <th>landing_page</th>\n",
       "      <th>converted</th>\n",
       "    </tr>\n",
       "  </thead>\n",
       "  <tbody>\n",
       "    <tr>\n",
       "      <th>0</th>\n",
       "      <td>77966</td>\n",
       "      <td>2021-10-28 23:07:00</td>\n",
       "      <td>control</td>\n",
       "      <td>old</td>\n",
       "      <td>0</td>\n",
       "    </tr>\n",
       "    <tr>\n",
       "      <th>1</th>\n",
       "      <td>3331</td>\n",
       "      <td>2022-02-01 00:19:58</td>\n",
       "      <td>control</td>\n",
       "      <td>old</td>\n",
       "      <td>0</td>\n",
       "    </tr>\n",
       "    <tr>\n",
       "      <th>2</th>\n",
       "      <td>72378</td>\n",
       "      <td>2022-11-01 11:24:37</td>\n",
       "      <td>control</td>\n",
       "      <td>old</td>\n",
       "      <td>0</td>\n",
       "    </tr>\n",
       "    <tr>\n",
       "      <th>3</th>\n",
       "      <td>63205</td>\n",
       "      <td>2021-05-31 00:03:33</td>\n",
       "      <td>treatment</td>\n",
       "      <td>new</td>\n",
       "      <td>0</td>\n",
       "    </tr>\n",
       "    <tr>\n",
       "      <th>4</th>\n",
       "      <td>58414</td>\n",
       "      <td>2022-09-16 10:46:25</td>\n",
       "      <td>treatment</td>\n",
       "      <td>new</td>\n",
       "      <td>0</td>\n",
       "    </tr>\n",
       "    <tr>\n",
       "      <th>...</th>\n",
       "      <td>...</td>\n",
       "      <td>...</td>\n",
       "      <td>...</td>\n",
       "      <td>...</td>\n",
       "      <td>...</td>\n",
       "    </tr>\n",
       "    <tr>\n",
       "      <th>29995</th>\n",
       "      <td>72526</td>\n",
       "      <td>2021-03-07 12:36:19</td>\n",
       "      <td>treatment</td>\n",
       "      <td>new</td>\n",
       "      <td>0</td>\n",
       "    </tr>\n",
       "    <tr>\n",
       "      <th>29996</th>\n",
       "      <td>3875</td>\n",
       "      <td>2022-11-03 11:45:10</td>\n",
       "      <td>control</td>\n",
       "      <td>old</td>\n",
       "      <td>0</td>\n",
       "    </tr>\n",
       "    <tr>\n",
       "      <th>29997</th>\n",
       "      <td>28048</td>\n",
       "      <td>2021-11-13 05:51:54</td>\n",
       "      <td>control</td>\n",
       "      <td>old</td>\n",
       "      <td>0</td>\n",
       "    </tr>\n",
       "    <tr>\n",
       "      <th>29998</th>\n",
       "      <td>29538</td>\n",
       "      <td>2022-01-07 12:39:50</td>\n",
       "      <td>control</td>\n",
       "      <td>old</td>\n",
       "      <td>0</td>\n",
       "    </tr>\n",
       "    <tr>\n",
       "      <th>29999</th>\n",
       "      <td>61899</td>\n",
       "      <td>2021-07-22 02:54:46</td>\n",
       "      <td>control</td>\n",
       "      <td>old</td>\n",
       "      <td>0</td>\n",
       "    </tr>\n",
       "  </tbody>\n",
       "</table>\n",
       "<p>30000 rows × 5 columns</p>\n",
       "</div>"
      ],
      "text/plain": [
       "       user_id            timestamp      group landing_page  converted\n",
       "0        77966  2021-10-28 23:07:00    control          old          0\n",
       "1         3331  2022-02-01 00:19:58    control          old          0\n",
       "2        72378  2022-11-01 11:24:37    control          old          0\n",
       "3        63205  2021-05-31 00:03:33  treatment          new          0\n",
       "4        58414  2022-09-16 10:46:25  treatment          new          0\n",
       "...        ...                  ...        ...          ...        ...\n",
       "29995    72526  2021-03-07 12:36:19  treatment          new          0\n",
       "29996     3875  2022-11-03 11:45:10    control          old          0\n",
       "29997    28048  2021-11-13 05:51:54    control          old          0\n",
       "29998    29538  2022-01-07 12:39:50    control          old          0\n",
       "29999    61899  2021-07-22 02:54:46    control          old          0\n",
       "\n",
       "[30000 rows x 5 columns]"
      ]
     },
     "execution_count": 4,
     "metadata": {},
     "output_type": "execute_result"
    }
   ],
   "source": [
    "df"
   ]
  },
  {
   "cell_type": "code",
   "execution_count": 5,
   "id": "c1bcd991",
   "metadata": {},
   "outputs": [
    {
     "data": {
      "text/plain": [
       "treatment    15034\n",
       "control      14966\n",
       "Name: group, dtype: int64"
      ]
     },
     "execution_count": 5,
     "metadata": {},
     "output_type": "execute_result"
    }
   ],
   "source": [
    "df['group'].value_counts()"
   ]
  },
  {
   "cell_type": "code",
   "execution_count": 6,
   "id": "4f682c62",
   "metadata": {},
   "outputs": [
    {
     "data": {
      "text/html": [
       "<div>\n",
       "<style scoped>\n",
       "    .dataframe tbody tr th:only-of-type {\n",
       "        vertical-align: middle;\n",
       "    }\n",
       "\n",
       "    .dataframe tbody tr th {\n",
       "        vertical-align: top;\n",
       "    }\n",
       "\n",
       "    .dataframe thead th {\n",
       "        text-align: right;\n",
       "    }\n",
       "</style>\n",
       "<table border=\"1\" class=\"dataframe\">\n",
       "  <thead>\n",
       "    <tr style=\"text-align: right;\">\n",
       "      <th>landing_page</th>\n",
       "      <th>new</th>\n",
       "      <th>old</th>\n",
       "    </tr>\n",
       "    <tr>\n",
       "      <th>group</th>\n",
       "      <th></th>\n",
       "      <th></th>\n",
       "    </tr>\n",
       "  </thead>\n",
       "  <tbody>\n",
       "    <tr>\n",
       "      <th>control</th>\n",
       "      <td>0</td>\n",
       "      <td>14966</td>\n",
       "    </tr>\n",
       "    <tr>\n",
       "      <th>treatment</th>\n",
       "      <td>15034</td>\n",
       "      <td>0</td>\n",
       "    </tr>\n",
       "  </tbody>\n",
       "</table>\n",
       "</div>"
      ],
      "text/plain": [
       "landing_page    new    old\n",
       "group                     \n",
       "control           0  14966\n",
       "treatment     15034      0"
      ]
     },
     "execution_count": 6,
     "metadata": {},
     "output_type": "execute_result"
    }
   ],
   "source": [
    "pd.crosstab(df['group'], df['landing_page'])"
   ]
  },
  {
   "cell_type": "markdown",
   "id": "5f03b8f3",
   "metadata": {},
   "source": [
    "### Finding the conversion rate"
   ]
  },
  {
   "cell_type": "code",
   "execution_count": 7,
   "id": "1ed6af8d",
   "metadata": {},
   "outputs": [
    {
     "data": {
      "text/plain": [
       "0    26625\n",
       "1     3375\n",
       "Name: converted, dtype: int64"
      ]
     },
     "execution_count": 7,
     "metadata": {},
     "output_type": "execute_result"
    }
   ],
   "source": [
    "df['converted'].value_counts() # let's see what the conversion rate looks like"
   ]
  },
  {
   "cell_type": "code",
   "execution_count": 8,
   "id": "eb2f2e3e",
   "metadata": {},
   "outputs": [
    {
     "data": {
      "text/plain": [
       "3375"
      ]
     },
     "execution_count": 8,
     "metadata": {},
     "output_type": "execute_result"
    }
   ],
   "source": [
    "df.loc[df['converted']==1,'converted'].sum()"
   ]
  },
  {
   "cell_type": "code",
   "execution_count": 9,
   "id": "46a41364",
   "metadata": {},
   "outputs": [
    {
     "name": "stdout",
     "output_type": "stream",
     "text": [
      "The conversion rate is 11.25%\n"
     ]
    }
   ],
   "source": [
    "conversion_rate = round(len(df.loc[df['converted']==1])/len(df)*100,2)\n",
    "print(f'The conversion rate is {conversion_rate}%')"
   ]
  },
  {
   "cell_type": "code",
   "execution_count": 10,
   "id": "54c81768",
   "metadata": {},
   "outputs": [
    {
     "data": {
      "text/plain": [
       "11.25"
      ]
     },
     "execution_count": 10,
     "metadata": {},
     "output_type": "execute_result"
    }
   ],
   "source": [
    "conversion_rate"
   ]
  },
  {
   "cell_type": "markdown",
   "id": "49542719",
   "metadata": {},
   "source": [
    "### Getting our required samples"
   ]
  },
  {
   "cell_type": "code",
   "execution_count": 11,
   "id": "f49b17b5",
   "metadata": {
    "scrolled": true
   },
   "outputs": [
    {
     "data": {
      "text/html": [
       "<div>\n",
       "<style scoped>\n",
       "    .dataframe tbody tr th:only-of-type {\n",
       "        vertical-align: middle;\n",
       "    }\n",
       "\n",
       "    .dataframe tbody tr th {\n",
       "        vertical-align: top;\n",
       "    }\n",
       "\n",
       "    .dataframe thead th {\n",
       "        text-align: right;\n",
       "    }\n",
       "</style>\n",
       "<table border=\"1\" class=\"dataframe\">\n",
       "  <thead>\n",
       "    <tr style=\"text-align: right;\">\n",
       "      <th></th>\n",
       "      <th>user_id</th>\n",
       "      <th>timestamp</th>\n",
       "      <th>group</th>\n",
       "      <th>landing_page</th>\n",
       "      <th>converted</th>\n",
       "    </tr>\n",
       "  </thead>\n",
       "  <tbody>\n",
       "    <tr>\n",
       "      <th>0</th>\n",
       "      <td>86191</td>\n",
       "      <td>2022-11-29 23:28:19</td>\n",
       "      <td>control</td>\n",
       "      <td>old</td>\n",
       "      <td>0</td>\n",
       "    </tr>\n",
       "    <tr>\n",
       "      <th>1</th>\n",
       "      <td>6509</td>\n",
       "      <td>2022-10-29 17:07:27</td>\n",
       "      <td>control</td>\n",
       "      <td>old</td>\n",
       "      <td>0</td>\n",
       "    </tr>\n",
       "    <tr>\n",
       "      <th>2</th>\n",
       "      <td>21933</td>\n",
       "      <td>2022-07-08 18:31:37</td>\n",
       "      <td>control</td>\n",
       "      <td>old</td>\n",
       "      <td>0</td>\n",
       "    </tr>\n",
       "    <tr>\n",
       "      <th>3</th>\n",
       "      <td>72253</td>\n",
       "      <td>2021-04-29 03:19:56</td>\n",
       "      <td>control</td>\n",
       "      <td>old</td>\n",
       "      <td>0</td>\n",
       "    </tr>\n",
       "    <tr>\n",
       "      <th>4</th>\n",
       "      <td>77677</td>\n",
       "      <td>2021-12-11 14:50:48</td>\n",
       "      <td>control</td>\n",
       "      <td>old</td>\n",
       "      <td>0</td>\n",
       "    </tr>\n",
       "    <tr>\n",
       "      <th>...</th>\n",
       "      <td>...</td>\n",
       "      <td>...</td>\n",
       "      <td>...</td>\n",
       "      <td>...</td>\n",
       "      <td>...</td>\n",
       "    </tr>\n",
       "    <tr>\n",
       "      <th>8861</th>\n",
       "      <td>25293</td>\n",
       "      <td>2021-06-07 14:00:10</td>\n",
       "      <td>treatment</td>\n",
       "      <td>new</td>\n",
       "      <td>0</td>\n",
       "    </tr>\n",
       "    <tr>\n",
       "      <th>8862</th>\n",
       "      <td>7416</td>\n",
       "      <td>2021-07-25 11:33:51</td>\n",
       "      <td>treatment</td>\n",
       "      <td>new</td>\n",
       "      <td>0</td>\n",
       "    </tr>\n",
       "    <tr>\n",
       "      <th>8863</th>\n",
       "      <td>51499</td>\n",
       "      <td>2022-07-22 22:01:38</td>\n",
       "      <td>treatment</td>\n",
       "      <td>new</td>\n",
       "      <td>0</td>\n",
       "    </tr>\n",
       "    <tr>\n",
       "      <th>8864</th>\n",
       "      <td>80639</td>\n",
       "      <td>2021-06-03 12:53:44</td>\n",
       "      <td>treatment</td>\n",
       "      <td>new</td>\n",
       "      <td>0</td>\n",
       "    </tr>\n",
       "    <tr>\n",
       "      <th>8865</th>\n",
       "      <td>10068</td>\n",
       "      <td>2022-08-27 10:08:29</td>\n",
       "      <td>treatment</td>\n",
       "      <td>new</td>\n",
       "      <td>0</td>\n",
       "    </tr>\n",
       "  </tbody>\n",
       "</table>\n",
       "<p>8866 rows × 5 columns</p>\n",
       "</div>"
      ],
      "text/plain": [
       "      user_id            timestamp      group landing_page  converted\n",
       "0       86191  2022-11-29 23:28:19    control          old          0\n",
       "1        6509  2022-10-29 17:07:27    control          old          0\n",
       "2       21933  2022-07-08 18:31:37    control          old          0\n",
       "3       72253  2021-04-29 03:19:56    control          old          0\n",
       "4       77677  2021-12-11 14:50:48    control          old          0\n",
       "...       ...                  ...        ...          ...        ...\n",
       "8861    25293  2021-06-07 14:00:10  treatment          new          0\n",
       "8862     7416  2021-07-25 11:33:51  treatment          new          0\n",
       "8863    51499  2022-07-22 22:01:38  treatment          new          0\n",
       "8864    80639  2021-06-03 12:53:44  treatment          new          0\n",
       "8865    10068  2022-08-27 10:08:29  treatment          new          0\n",
       "\n",
       "[8866 rows x 5 columns]"
      ]
     },
     "execution_count": 11,
     "metadata": {},
     "output_type": "execute_result"
    }
   ],
   "source": [
    "control_sample = df[df['group'] == 'control'].sample(n=required_n, random_state=24)\n",
    "treatment_sample = df[df['group'] == 'treatment'].sample(n=required_n, random_state=24)\n",
    "\n",
    "ab_test = pd.concat([control_sample, treatment_sample], axis=0)\n",
    "ab_test.reset_index(drop=True, inplace=True)\n",
    "ab_test"
   ]
  },
  {
   "cell_type": "code",
   "execution_count": 12,
   "id": "8292a4e3",
   "metadata": {},
   "outputs": [
    {
     "data": {
      "text/plain": [
       "control      4433\n",
       "treatment    4433\n",
       "Name: group, dtype: int64"
      ]
     },
     "execution_count": 12,
     "metadata": {},
     "output_type": "execute_result"
    }
   ],
   "source": [
    "ab_test['group'].value_counts()"
   ]
  },
  {
   "cell_type": "markdown",
   "id": "f6b0697d",
   "metadata": {},
   "source": [
    "#### Calculating the conversion rates and statistics (thanks Python!)"
   ]
  },
  {
   "cell_type": "code",
   "execution_count": 13,
   "id": "f7b41263",
   "metadata": {},
   "outputs": [],
   "source": [
    "conversion_rates = ab_test.groupby('group')['converted'].sum()"
   ]
  },
  {
   "cell_type": "code",
   "execution_count": 14,
   "id": "1511ced0",
   "metadata": {},
   "outputs": [
    {
     "data": {
      "text/plain": [
       "group\n",
       "control      449\n",
       "treatment    551\n",
       "Name: converted, dtype: int64"
      ]
     },
     "execution_count": 14,
     "metadata": {},
     "output_type": "execute_result"
    }
   ],
   "source": [
    "conversion_rates"
   ]
  },
  {
   "cell_type": "code",
   "execution_count": 15,
   "id": "1f65e314",
   "metadata": {},
   "outputs": [
    {
     "data": {
      "text/html": [
       "<style type=\"text/css\">\n",
       "</style>\n",
       "<table id=\"T_ba478\">\n",
       "  <thead>\n",
       "    <tr>\n",
       "      <th class=\"blank level0\" >&nbsp;</th>\n",
       "      <th id=\"T_ba478_level0_col0\" class=\"col_heading level0 col0\" >conversion_rate</th>\n",
       "      <th id=\"T_ba478_level0_col1\" class=\"col_heading level0 col1\" >std_deviation</th>\n",
       "      <th id=\"T_ba478_level0_col2\" class=\"col_heading level0 col2\" >std_error</th>\n",
       "    </tr>\n",
       "    <tr>\n",
       "      <th class=\"index_name level0\" >group</th>\n",
       "      <th class=\"blank col0\" >&nbsp;</th>\n",
       "      <th class=\"blank col1\" >&nbsp;</th>\n",
       "      <th class=\"blank col2\" >&nbsp;</th>\n",
       "    </tr>\n",
       "  </thead>\n",
       "  <tbody>\n",
       "    <tr>\n",
       "      <th id=\"T_ba478_level0_row0\" class=\"row_heading level0 row0\" >control</th>\n",
       "      <td id=\"T_ba478_row0_col0\" class=\"data row0 col0\" >0.101</td>\n",
       "      <td id=\"T_ba478_row0_col1\" class=\"data row0 col1\" >0.302</td>\n",
       "      <td id=\"T_ba478_row0_col2\" class=\"data row0 col2\" >0.005</td>\n",
       "    </tr>\n",
       "    <tr>\n",
       "      <th id=\"T_ba478_level0_row1\" class=\"row_heading level0 row1\" >treatment</th>\n",
       "      <td id=\"T_ba478_row1_col0\" class=\"data row1 col0\" >0.124</td>\n",
       "      <td id=\"T_ba478_row1_col1\" class=\"data row1 col1\" >0.330</td>\n",
       "      <td id=\"T_ba478_row1_col2\" class=\"data row1 col2\" >0.005</td>\n",
       "    </tr>\n",
       "  </tbody>\n",
       "</table>\n"
      ],
      "text/plain": [
       "<pandas.io.formats.style.Styler at 0x118cb7160>"
      ]
     },
     "execution_count": 15,
     "metadata": {},
     "output_type": "execute_result"
    }
   ],
   "source": [
    "conversion_rates = ab_test.groupby('group')['converted']\n",
    "\n",
    "std_p = lambda x: np.std(x)              # Std. deviation of the proportion\n",
    "se_p = lambda x: stats.sem(x)            # Std. error of the proportion (std / sqrt(n))\n",
    "\n",
    "conversion_rates = conversion_rates.agg([np.mean, std_p, se_p])\n",
    "conversion_rates.columns = ['conversion_rate', 'std_deviation', 'std_error']\n",
    "\n",
    "\n",
    "conversion_rates.style.format('{:.3f}')"
   ]
  },
  {
   "cell_type": "markdown",
   "id": "2e26e5d1",
   "metadata": {},
   "source": [
    "#### Plotting the results"
   ]
  },
  {
   "cell_type": "code",
   "execution_count": 16,
   "id": "efb52f9a",
   "metadata": {},
   "outputs": [
    {
     "name": "stderr",
     "output_type": "stream",
     "text": [
      "/var/folders/6x/86vt80p56r33nt6627tff6340000gn/T/ipykernel_12713/4193140079.py:1: MatplotlibDeprecationWarning: The seaborn styles shipped by Matplotlib are deprecated since 3.6, as they no longer correspond to the styles shipped by seaborn. However, they will remain available as 'seaborn-v0_8-<style>'. Alternatively, directly use the seaborn API instead.\n",
      "  plt.style.use('seaborn-whitegrid')\n"
     ]
    }
   ],
   "source": [
    "plt.style.use('seaborn-whitegrid')\n",
    "font = {'family' : 'Helvetica',\n",
    "        'weight' : 'bold',\n",
    "        'size'   : 14}\n",
    "\n",
    "mpl.rc('font', **font)"
   ]
  },
  {
   "cell_type": "code",
   "execution_count": 17,
   "id": "a6cc5b42",
   "metadata": {},
   "outputs": [
    {
     "data": {
      "image/png": "[encoded data removed]",
      "text/plain": [
       "<Figure size 800x600 with 1 Axes>"
      ]
     },
     "metadata": {},
     "output_type": "display_data"
    }
   ],
   "source": [
    "plt.figure(figsize=(8,6))\n",
    "\n",
    "sns.barplot(x=ab_test['group'], y=ab_test['converted'], errorbar=None)\n",
    "\n",
    "plt.ylim(0, 0.17)\n",
    "plt.title('Conversion rate by group')\n",
    "plt.xlabel('Group')\n",
    "plt.ylabel('Converted (proportion)');"
   ]
  },
  {
   "cell_type": "markdown",
   "id": "6a67cc28",
   "metadata": {},
   "source": [
    "### Getting our results"
   ]
  },
  {
   "cell_type": "code",
   "execution_count": 18,
   "id": "3d322a9c",
   "metadata": {},
   "outputs": [
    {
     "name": "stdout",
     "output_type": "stream",
     "text": [
      "z statistic: -3.42\n",
      "p-value: 0.001\n",
      "confidence interval 95% for control group: [0.092, 0.110]\n",
      "confidence interval 95% for treatment group: [0.115, 0.134]\n"
     ]
    }
   ],
   "source": [
    "from statsmodels.stats.proportion import proportions_ztest, proportion_confint\n",
    "control_results = ab_test[ab_test['group'] == 'control']['converted']\n",
    "treatment_results = ab_test[ab_test['group'] == 'treatment']['converted']\n",
    "n_con = control_results.count()\n",
    "n_treat = treatment_results.count()\n",
    "successes = [control_results.sum(), treatment_results.sum()]\n",
    "nobs = [n_con, n_treat]\n",
    "\n",
    "z_stat, pval = proportions_ztest(successes, nobs=nobs)\n",
    "(lower_con, lower_treat), (upper_con, upper_treat) = proportion_confint(successes, nobs=nobs, alpha=0.05)\n",
    "\n",
    "print(f'z statistic: {z_stat:.2f}')\n",
    "print(f'p-value: {pval:.3f}')\n",
    "print(f'confidence interval 95% for control group: [{lower_con:.3f}, {upper_con:.3f}]')\n",
    "print(f'confidence interval 95% for treatment group: [{lower_treat:.3f}, {upper_treat:.3f}]')"
   ]
  },
  {
   "cell_type": "markdown",
   "id": "7d056120",
   "metadata": {},
   "source": [
    "# Given that the resulting p-value < 0.05, we reject the Null Hypothesis\n",
    "\n",
    "## The new webpage did increase the conversion rate. You can congratulate your UX colleague on a job well done!"
   ]
  },
  {
   "cell_type": "code",
   "execution_count": null,
   "id": "a7dae039",
   "metadata": {},
   "outputs": [],
   "source": []
  }
 ],
 "metadata": {
  "kernelspec": {
   "display_name": "Python 3 (ipykernel)",
   "language": "python",
   "name": "python3"
  },
  "language_info": {
   "codemirror_mode": {
    "name": "ipython",
    "version": 3
   },
   "file_extension": ".py",
   "mimetype": "text/x-python",
   "name": "python",
   "nbconvert_exporter": "python",
   "pygments_lexer": "ipython3",
   "version": "3.10.9"
  }
 },
 "nbformat": 4,
 "nbformat_minor": 5
}
